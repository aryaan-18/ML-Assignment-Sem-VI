{
 "cells": [
  {
   "cell_type": "code",
   "execution_count": 80,
   "metadata": {
    "id": "yAyTf64xgYY0"
   },
   "outputs": [],
   "source": [
    "#Importing the Pandas Library\n",
    "import pandas as pd"
   ]
  },
  {
   "cell_type": "code",
   "execution_count": 81,
   "metadata": {
    "colab": {
     "base_uri": "https://localhost:8080/"
    },
    "id": "NWjGb0E-gf1d",
    "outputId": "c3f36da5-0fae-4ade-e420-cf36a1019b5c"
   },
   "outputs": [
    {
     "name": "stdout",
     "output_type": "stream",
     "text": [
      "RangeIndex(start=0, stop=1338, step=1)\n"
     ]
    }
   ],
   "source": [
    "#Reading the Dataset and Displaying the Index Values of the Dataset\n",
    "data = pd.read_csv(\"Insurance.csv\")\n",
    "print(data.index)"
   ]
  },
  {
   "cell_type": "code",
   "execution_count": 82,
   "metadata": {
    "colab": {
     "base_uri": "https://localhost:8080/"
    },
    "id": "u0Pim_8YhhYF",
    "outputId": "e753eadb-3ad6-4c83-c7e8-a61b3ae0759a"
   },
   "outputs": [
    {
     "name": "stdout",
     "output_type": "stream",
     "text": [
      "Index(['age', 'sex', 'bmi', 'children', 'smoker', 'region', 'charges'], dtype='object')\n",
      "(1338, 7)\n",
      "<class 'pandas.core.frame.DataFrame'>\n",
      "RangeIndex: 1338 entries, 0 to 1337\n",
      "Data columns (total 7 columns):\n",
      " #   Column    Non-Null Count  Dtype  \n",
      "---  ------    --------------  -----  \n",
      " 0   age       1338 non-null   int64  \n",
      " 1   sex       1338 non-null   object \n",
      " 2   bmi       1338 non-null   float64\n",
      " 3   children  1338 non-null   int64  \n",
      " 4   smoker    1338 non-null   object \n",
      " 5   region    1338 non-null   object \n",
      " 6   charges   1338 non-null   float64\n",
      "dtypes: float64(2), int64(2), object(3)\n",
      "memory usage: 73.3+ KB\n"
     ]
    }
   ],
   "source": [
    "#Displaying the List of Columns Present in the Dataset, Number of Rows x Number of Columns Present in the Dataset\n",
    "#, and the Information of the Dataset\n",
    "print(data.columns)\n",
    "print(data.shape)\n",
    "data.info()"
   ]
  },
  {
   "cell_type": "code",
   "execution_count": 83,
   "metadata": {
    "colab": {
     "base_uri": "https://localhost:8080/"
    },
    "id": "iG8cZhR2h0m7",
    "outputId": "cbfae612-88d7-4441-d4d6-5326a17d756c"
   },
   "outputs": [
    {
     "name": "stdout",
     "output_type": "stream",
     "text": [
      "   age     sex     bmi  children smoker     region      charges\n",
      "0   19  female  27.900         0    yes  southwest  16884.92400\n",
      "1   18    male  33.770         1     no  southeast   1725.55230\n",
      "2   28    male  33.000         3     no  southeast   4449.46200\n",
      "3   33    male  22.705         0     no  northwest  21984.47061\n",
      "4   32    male  28.880         0     no  northwest   3866.85520\n"
     ]
    }
   ],
   "source": [
    "#Displaying the First Five Values of the Dataset\n",
    "print(data.head())"
   ]
  },
  {
   "cell_type": "code",
   "execution_count": 84,
   "metadata": {
    "colab": {
     "base_uri": "https://localhost:8080/"
    },
    "id": "IN7vZDR9iWyG",
    "outputId": "384f7416-22b3-4818-f9cd-847440bb385f"
   },
   "outputs": [
    {
     "name": "stdout",
     "output_type": "stream",
     "text": [
      "      age     sex    bmi  children smoker     region     charges\n",
      "1333   50    male  30.97         3     no  northwest  10600.5483\n",
      "1334   18  female  31.92         0     no  northeast   2205.9808\n",
      "1335   18  female  36.85         0     no  southeast   1629.8335\n",
      "1336   21  female  25.80         0     no  southwest   2007.9450\n",
      "1337   61  female  29.07         0    yes  northwest  29141.3603\n"
     ]
    }
   ],
   "source": [
    "#Displaying the Last Five Values of the Dataset\n",
    "print(data.tail())"
   ]
  },
  {
   "cell_type": "code",
   "execution_count": 85,
   "metadata": {
    "colab": {
     "base_uri": "https://localhost:8080/"
    },
    "id": "hq23Md3hjGSo",
    "outputId": "fa64bfa3-8f29-464a-b6f7-438d647ea8af"
   },
   "outputs": [
    {
     "data": {
      "text/plain": [
       "age           47\n",
       "sex            2\n",
       "bmi          548\n",
       "children       6\n",
       "smoker         2\n",
       "region         4\n",
       "charges     1337\n",
       "dtype: int64"
      ]
     },
     "execution_count": 85,
     "metadata": {},
     "output_type": "execute_result"
    }
   ],
   "source": [
    "#Calculating the Count of Unique Values For Each Column\n",
    "data.nunique()"
   ]
  },
  {
   "cell_type": "code",
   "execution_count": 86,
   "metadata": {
    "colab": {
     "base_uri": "https://localhost:8080/"
    },
    "id": "9yeiD6uJjJu4",
    "outputId": "d2b7edc7-211b-456d-ec7d-aec1dcfc0fbd"
   },
   "outputs": [
    {
     "data": {
      "text/plain": [
       "age         0\n",
       "sex         0\n",
       "bmi         0\n",
       "children    0\n",
       "smoker      0\n",
       "region      0\n",
       "charges     0\n",
       "dtype: int64"
      ]
     },
     "execution_count": 86,
     "metadata": {},
     "output_type": "execute_result"
    }
   ],
   "source": [
    "#Calculating the Count of NA Values Present in the Dataset\n",
    "data.isna().sum()"
   ]
  },
  {
   "cell_type": "code",
   "execution_count": 87,
   "metadata": {
    "colab": {
     "base_uri": "https://localhost:8080/"
    },
    "id": "xv7vMFcxjQPU",
    "outputId": "1ece1d43-a8c7-47cd-937f-d48fae739120"
   },
   "outputs": [
    {
     "data": {
      "text/plain": [
       "age         0\n",
       "sex         0\n",
       "bmi         0\n",
       "children    0\n",
       "smoker      0\n",
       "region      0\n",
       "charges     0\n",
       "dtype: int64"
      ]
     },
     "execution_count": 87,
     "metadata": {},
     "output_type": "execute_result"
    }
   ],
   "source": [
    "#Calculating the Count of NULL Values Present in the Dataset\n",
    "data.isnull().sum()"
   ]
  },
  {
   "cell_type": "code",
   "execution_count": 88,
   "metadata": {
    "colab": {
     "base_uri": "https://localhost:8080/"
    },
    "id": "bNJ_tLJqjVQF",
    "outputId": "8946bd9d-fef6-4b57-964d-4cacfd6121ec"
   },
   "outputs": [
    {
     "name": "stdout",
     "output_type": "stream",
     "text": [
      "               age          bmi     children       charges\n",
      "count  1338.000000  1338.000000  1338.000000   1338.000000\n",
      "mean     39.207025    30.663397     1.094918  13270.422265\n",
      "std      14.049960     6.098187     1.205493  12110.011237\n",
      "min      18.000000    15.960000     0.000000   1121.873900\n",
      "25%      27.000000    26.296250     0.000000   4740.287150\n",
      "50%      39.000000    30.400000     1.000000   9382.033000\n",
      "75%      51.000000    34.693750     2.000000  16639.912515\n",
      "max      64.000000    53.130000     5.000000  63770.428010\n"
     ]
    }
   ],
   "source": [
    "#Displaying the Description of the Data Stored in the DataFrame\n",
    "print(data.describe())"
   ]
  },
  {
   "cell_type": "code",
   "execution_count": 89,
   "metadata": {
    "colab": {
     "base_uri": "https://localhost:8080/"
    },
    "id": "Xy3GBwryjYha",
    "outputId": "a9867f7e-c50c-4fe8-ac21-5fba958fee6c"
   },
   "outputs": [
    {
     "name": "stdout",
     "output_type": "stream",
     "text": [
      "age           int64\n",
      "sex          object\n",
      "bmi         float64\n",
      "children      int64\n",
      "smoker       object\n",
      "region       object\n",
      "charges     float64\n",
      "dtype: object\n"
     ]
    }
   ],
   "source": [
    "#Displaying the Data Types of All Columns in the Data Set\n",
    "print(data.dtypes)"
   ]
  },
  {
   "cell_type": "code",
   "execution_count": 90,
   "metadata": {
    "colab": {
     "base_uri": "https://localhost:8080/",
     "height": 457
    },
    "id": "JfpSNl7KioBS",
    "outputId": "354723f9-be10-446b-a68d-d9a91e9b658d"
   },
   "outputs": [
    {
     "data": {
      "text/html": [
       "<div>\n",
       "<style scoped>\n",
       "    .dataframe tbody tr th:only-of-type {\n",
       "        vertical-align: middle;\n",
       "    }\n",
       "\n",
       "    .dataframe tbody tr th {\n",
       "        vertical-align: top;\n",
       "    }\n",
       "\n",
       "    .dataframe thead th {\n",
       "        text-align: right;\n",
       "    }\n",
       "</style>\n",
       "<table border=\"1\" class=\"dataframe\">\n",
       "  <thead>\n",
       "    <tr style=\"text-align: right;\">\n",
       "      <th></th>\n",
       "      <th>age</th>\n",
       "    </tr>\n",
       "  </thead>\n",
       "  <tbody>\n",
       "    <tr>\n",
       "      <th>count</th>\n",
       "      <td>1338.000000</td>\n",
       "    </tr>\n",
       "    <tr>\n",
       "      <th>mean</th>\n",
       "      <td>39.207025</td>\n",
       "    </tr>\n",
       "    <tr>\n",
       "      <th>std</th>\n",
       "      <td>14.049960</td>\n",
       "    </tr>\n",
       "    <tr>\n",
       "      <th>min</th>\n",
       "      <td>18.000000</td>\n",
       "    </tr>\n",
       "    <tr>\n",
       "      <th>1%</th>\n",
       "      <td>18.000000</td>\n",
       "    </tr>\n",
       "    <tr>\n",
       "      <th>10%</th>\n",
       "      <td>19.000000</td>\n",
       "    </tr>\n",
       "    <tr>\n",
       "      <th>30%</th>\n",
       "      <td>29.000000</td>\n",
       "    </tr>\n",
       "    <tr>\n",
       "      <th>50%</th>\n",
       "      <td>39.000000</td>\n",
       "    </tr>\n",
       "    <tr>\n",
       "      <th>75%</th>\n",
       "      <td>51.000000</td>\n",
       "    </tr>\n",
       "    <tr>\n",
       "      <th>90%</th>\n",
       "      <td>59.000000</td>\n",
       "    </tr>\n",
       "    <tr>\n",
       "      <th>99%</th>\n",
       "      <td>64.000000</td>\n",
       "    </tr>\n",
       "    <tr>\n",
       "      <th>100%</th>\n",
       "      <td>64.000000</td>\n",
       "    </tr>\n",
       "    <tr>\n",
       "      <th>max</th>\n",
       "      <td>64.000000</td>\n",
       "    </tr>\n",
       "  </tbody>\n",
       "</table>\n",
       "</div>"
      ],
      "text/plain": [
       "               age\n",
       "count  1338.000000\n",
       "mean     39.207025\n",
       "std      14.049960\n",
       "min      18.000000\n",
       "1%       18.000000\n",
       "10%      19.000000\n",
       "30%      29.000000\n",
       "50%      39.000000\n",
       "75%      51.000000\n",
       "90%      59.000000\n",
       "99%      64.000000\n",
       "100%     64.000000\n",
       "max      64.000000"
      ]
     },
     "execution_count": 90,
     "metadata": {},
     "output_type": "execute_result"
    }
   ],
   "source": [
    "#Using the 'describe()' with specific percentiles\n",
    "pd.DataFrame(data['age']).describe(percentiles=(1,0.99,0.9,0.75,0.5,0.3,0.1,0.01))"
   ]
  },
  {
   "cell_type": "code",
   "execution_count": 91,
   "metadata": {
    "id": "90Ah_sL-i-T_"
   },
   "outputs": [],
   "source": [
    "#Importing the MatPlot Library\n",
    "import matplotlib.pyplot as plt"
   ]
  },
  {
   "cell_type": "code",
   "execution_count": 92,
   "metadata": {
    "colab": {
     "base_uri": "https://localhost:8080/",
     "height": 430
    },
    "id": "cr_TnXwfjENu",
    "outputId": "587f835f-50ac-4176-da50-0d77bc2d36c7"
   },
   "outputs": [
    {
     "data": {
      "image/png": "[encoded data removed]",
      "text/plain": [
       "<Figure size 432x288 with 1 Axes>"
      ]
     },
     "metadata": {
      "needs_background": "light"
     },
     "output_type": "display_data"
    }
   ],
   "source": [
    "#Plotting a Box-Plot Graph For 'age' column To Find The Presence of Outliers\n",
    "%matplotlib inline\n",
    "plt.boxplot(data['age'])\n",
    "plt.show()"
   ]
  },
  {
   "cell_type": "code",
   "execution_count": 93,
   "metadata": {
    "colab": {
     "base_uri": "https://localhost:8080/"
    },
    "id": "igxQ85X4jR7x",
    "outputId": "6f786c16-3f45-4534-99cc-08238d111c50"
   },
   "outputs": [
    {
     "data": {
      "text/plain": [
       "Series([], Name: age, dtype: bool)"
      ]
     },
     "execution_count": 93,
     "metadata": {},
     "output_type": "execute_result"
    }
   ],
   "source": [
    "#Checking Outliers By Definition And Treating Outliers\n",
    "\n",
    "#Finding the Median 'age'\n",
    "age_col_df = pd.DataFrame(data['age'])\n",
    "age_median = age_col_df.median()\n",
    "\n",
    "#Calculating the Inter-Quartile Range of the 'age' column\n",
    "Q1 = age_col_df.quantile(q=0.25)\n",
    "Q3 = age_col_df.quantile(q=0.75) \n",
    "IQR = Q3 - Q1\n",
    "\n",
    "IQR_LL = int(Q1 - 1.5*IQR) #Calculating the Value For The Lower Level Outlier\n",
    "IQR_UL = int(Q3 + 1.5*IQR) #Calculating the Value For The Upper Level Outlier\n",
    "\n",
    "#Finding And Treating the Outliers At Upper Level And Lower Level\n",
    "data.loc[data['age'] > IQR_UL , 'age'] == int(age_col_df.quantile(q=0.90))\n",
    "data.loc[data['age'] < IQR_LL , 'age'] == int(age_col_df.quantile(q=0.01))"
   ]
  },
  {
   "cell_type": "code",
   "execution_count": 94,
   "metadata": {
    "colab": {
     "base_uri": "https://localhost:8080/",
     "height": 430
    },
    "id": "Dv8nyUjcnQdE",
    "outputId": "13d20cbf-ed5d-439d-c945-64ad2a19a601"
   },
   "outputs": [
    {
     "data": {
      "image/png": "[encoded data removed]",
      "text/plain": [
       "<Figure size 432x288 with 1 Axes>"
      ]
     },
     "metadata": {
      "needs_background": "light"
     },
     "output_type": "display_data"
    }
   ],
   "source": [
    "#Checking the Maximum Value of the 'age' Column To See If There Are Any Changes\n",
    "max(data['age'])\n",
    "plt.boxplot(data['age'])\n",
    "plt.show()"
   ]
  },
  {
   "cell_type": "code",
   "execution_count": 95,
   "metadata": {
    "colab": {
     "base_uri": "https://localhost:8080/",
     "height": 472
    },
    "id": "eGqa-G1Mok2w",
    "outputId": "b29fd61e-6e97-4418-bfad-8642351f1a13"
   },
   "outputs": [
    {
     "data": {
      "image/png": "[encoded data removed]",
      "text/plain": [
       "<Figure size 432x288 with 1 Axes>"
      ]
     },
     "metadata": {
      "needs_background": "light"
     },
     "output_type": "display_data"
    }
   ],
   "source": [
    "#Plotting A Scatter-Plot Graph To See How 'age' Is Varying With Insurance Premium 'charges'\n",
    "x = data['age']\n",
    "y = data['charges']\n",
    "plt.scatter(x, y)\n",
    "plt.title(\"Age-Premium Charges Chart\")\n",
    "plt.xlabel('Age')\n",
    "plt.ylabel('Premium Charges')\n",
    "plt.show()"
   ]
  },
  {
   "cell_type": "code",
   "execution_count": 96,
   "metadata": {
    "id": "Ryj03KHbqdy8"
   },
   "outputs": [],
   "source": [
    "#Importing the Seaborn Library\n",
    "import seaborn as sns"
   ]
  },
  {
   "cell_type": "code",
   "execution_count": 97,
   "metadata": {
    "colab": {
     "base_uri": "https://localhost:8080/",
     "height": 657
    },
    "id": "X5-w4I4Qqp2c",
    "outputId": "54e81b7a-aef6-4959-f4ab-671ac359c209"
   },
   "outputs": [
    {
     "name": "stderr",
     "output_type": "stream",
     "text": [
      "C:\\ProgramData\\Anaconda3\\lib\\site-packages\\seaborn\\distributions.py:2619: FutureWarning: `distplot` is a deprecated function and will be removed in a future version. Please adapt your code to use either `displot` (a figure-level function with similar flexibility) or `histplot` (an axes-level function for histograms).\n",
      "  warnings.warn(msg, FutureWarning)\n"
     ]
    },
    {
     "data": {
      "text/plain": [
       "<AxesSubplot:xlabel='age', ylabel='Density'>"
      ]
     },
     "execution_count": 97,
     "metadata": {},
     "output_type": "execute_result"
    },
    {
     "data": {
      "image/png": "[encoded data removed]",
      "text/plain": [
       "<Figure size 432x288 with 1 Axes>"
      ]
     },
     "metadata": {
      "needs_background": "light"
     },
     "output_type": "display_data"
    }
   ],
   "source": [
    "#Plotting A Density Distribution Graph Against The Data Distribution of 'age' Column\n",
    "sns.distplot(data['age'])"
   ]
  },
  {
   "cell_type": "code",
   "execution_count": 98,
   "metadata": {
    "colab": {
     "base_uri": "https://localhost:8080/",
     "height": 429
    },
    "id": "6ozNBKtDqz5g",
    "outputId": "6959b0e5-ca46-4702-d9ae-46a4eba53b28"
   },
   "outputs": [
    {
     "data": {
      "image/png": "[encoded data removed]",
      "text/plain": [
       "<Figure size 576x288 with 2 Axes>"
      ]
     },
     "metadata": {
      "needs_background": "light"
     },
     "output_type": "display_data"
    }
   ],
   "source": [
    "#Finding The Pairwise Correlation Of All Numeric Columns And Plotting HeatMap Graphs For Each Pairwise Collection\n",
    "#Of The Columns\n",
    "corr_matrix = data.corr().round(2)\n",
    "figure, axis = plt.subplots(figsize =(8,4))\n",
    "c = sns.heatmap(data=corr_matrix, annot=True)\n",
    "figure.savefig(\"myimage.png\")"
   ]
  },
  {
   "cell_type": "code",
   "execution_count": 99,
   "metadata": {
    "colab": {
     "base_uri": "https://localhost:8080/",
     "height": 407
    },
    "id": "rsbZOiIBsD51",
    "outputId": "8b68fc4d-7d97-4ae3-cb9a-769afef41916"
   },
   "outputs": [
    {
     "data": {
      "text/html": [
       "<div>\n",
       "<style scoped>\n",
       "    .dataframe tbody tr th:only-of-type {\n",
       "        vertical-align: middle;\n",
       "    }\n",
       "\n",
       "    .dataframe tbody tr th {\n",
       "        vertical-align: top;\n",
       "    }\n",
       "\n",
       "    .dataframe thead th {\n",
       "        text-align: right;\n",
       "    }\n",
       "</style>\n",
       "<table border=\"1\" class=\"dataframe\">\n",
       "  <thead>\n",
       "    <tr style=\"text-align: right;\">\n",
       "      <th></th>\n",
       "      <th>age</th>\n",
       "      <th>bmi</th>\n",
       "      <th>children</th>\n",
       "      <th>smoker</th>\n",
       "      <th>charges</th>\n",
       "    </tr>\n",
       "  </thead>\n",
       "  <tbody>\n",
       "    <tr>\n",
       "      <th>0</th>\n",
       "      <td>19</td>\n",
       "      <td>27.900</td>\n",
       "      <td>0</td>\n",
       "      <td>1</td>\n",
       "      <td>16884.92400</td>\n",
       "    </tr>\n",
       "    <tr>\n",
       "      <th>1</th>\n",
       "      <td>18</td>\n",
       "      <td>33.770</td>\n",
       "      <td>1</td>\n",
       "      <td>0</td>\n",
       "      <td>1725.55230</td>\n",
       "    </tr>\n",
       "    <tr>\n",
       "      <th>2</th>\n",
       "      <td>28</td>\n",
       "      <td>33.000</td>\n",
       "      <td>3</td>\n",
       "      <td>0</td>\n",
       "      <td>4449.46200</td>\n",
       "    </tr>\n",
       "    <tr>\n",
       "      <th>3</th>\n",
       "      <td>33</td>\n",
       "      <td>22.705</td>\n",
       "      <td>0</td>\n",
       "      <td>0</td>\n",
       "      <td>21984.47061</td>\n",
       "    </tr>\n",
       "    <tr>\n",
       "      <th>4</th>\n",
       "      <td>32</td>\n",
       "      <td>28.880</td>\n",
       "      <td>0</td>\n",
       "      <td>0</td>\n",
       "      <td>3866.85520</td>\n",
       "    </tr>\n",
       "    <tr>\n",
       "      <th>...</th>\n",
       "      <td>...</td>\n",
       "      <td>...</td>\n",
       "      <td>...</td>\n",
       "      <td>...</td>\n",
       "      <td>...</td>\n",
       "    </tr>\n",
       "    <tr>\n",
       "      <th>1333</th>\n",
       "      <td>50</td>\n",
       "      <td>30.970</td>\n",
       "      <td>3</td>\n",
       "      <td>0</td>\n",
       "      <td>10600.54830</td>\n",
       "    </tr>\n",
       "    <tr>\n",
       "      <th>1334</th>\n",
       "      <td>18</td>\n",
       "      <td>31.920</td>\n",
       "      <td>0</td>\n",
       "      <td>0</td>\n",
       "      <td>2205.98080</td>\n",
       "    </tr>\n",
       "    <tr>\n",
       "      <th>1335</th>\n",
       "      <td>18</td>\n",
       "      <td>36.850</td>\n",
       "      <td>0</td>\n",
       "      <td>0</td>\n",
       "      <td>1629.83350</td>\n",
       "    </tr>\n",
       "    <tr>\n",
       "      <th>1336</th>\n",
       "      <td>21</td>\n",
       "      <td>25.800</td>\n",
       "      <td>0</td>\n",
       "      <td>0</td>\n",
       "      <td>2007.94500</td>\n",
       "    </tr>\n",
       "    <tr>\n",
       "      <th>1337</th>\n",
       "      <td>61</td>\n",
       "      <td>29.070</td>\n",
       "      <td>0</td>\n",
       "      <td>1</td>\n",
       "      <td>29141.36030</td>\n",
       "    </tr>\n",
       "  </tbody>\n",
       "</table>\n",
       "<p>1338 rows × 5 columns</p>\n",
       "</div>"
      ],
      "text/plain": [
       "      age     bmi  children  smoker      charges\n",
       "0      19  27.900         0       1  16884.92400\n",
       "1      18  33.770         1       0   1725.55230\n",
       "2      28  33.000         3       0   4449.46200\n",
       "3      33  22.705         0       0  21984.47061\n",
       "4      32  28.880         0       0   3866.85520\n",
       "...   ...     ...       ...     ...          ...\n",
       "1333   50  30.970         3       0  10600.54830\n",
       "1334   18  31.920         0       0   2205.98080\n",
       "1335   18  36.850         0       0   1629.83350\n",
       "1336   21  25.800         0       0   2007.94500\n",
       "1337   61  29.070         0       1  29141.36030\n",
       "\n",
       "[1338 rows x 5 columns]"
      ]
     },
     "execution_count": 99,
     "metadata": {},
     "output_type": "execute_result"
    }
   ],
   "source": [
    "#Reading The Updated Dataset Filled With Numeric Values\n",
    "my_data = pd.read_csv(\"Insurance_Numeric.csv\")\n",
    "my_data"
   ]
  },
  {
   "cell_type": "code",
   "execution_count": 100,
   "metadata": {},
   "outputs": [],
   "source": [
    "#Performing the Normalization of Data - Scaling the Data\n",
    "from sklearn.preprocessing import MinMaxScaler\n",
    "scaler = MinMaxScaler()\n",
    "scaled_data = scaler.fit_transform(my_data)\n",
    "scaled_data\n",
    "\n",
    "#Converting The Scaled Data Into A Pandas DataFrame\n",
    "my_data_scaled = pd.DataFrame(scaled_data)\n",
    "my_data_scaled.columns = my_data.columns\n",
    "\n",
    "#Separating Features - 'age','smoker' And Response - 'charges'\n",
    "features = [\"age\", \"smoker\"]\n",
    "response = [\"charges\"]\n",
    "x = my_data_scaled[features]\n",
    "y = my_data_scaled[response]"
   ]
  },
  {
   "cell_type": "code",
   "execution_count": 101,
   "metadata": {},
   "outputs": [
    {
     "name": "stdout",
     "output_type": "stream",
     "text": [
      "77.25859533422103 %\n"
     ]
    }
   ],
   "source": [
    "#Importing Necessary Packages to Perform Linear Regression\n",
    "#And To Divide the Data Into Training and Testing Data\n",
    "from sklearn.linear_model import LinearRegression\n",
    "from sklearn import metrics\n",
    "from sklearn.model_selection import train_test_split\n",
    "x_train, x_test, y_train, y_test = train_test_split(x, y, test_size=0.2, random_state=0)\n",
    "\n",
    "#Fitting The Linear Regression Model\n",
    "model = LinearRegression()\n",
    "model.fit(x_train, y_train)\n",
    "\n",
    "#Finding The Accuracy of the Predicted Data By Comparing With The Test Data\n",
    "accuracy = model.score(x_test, y_test)\n",
    "print(accuracy*100,'%')"
   ]
  },
  {
   "cell_type": "code",
   "execution_count": 102,
   "metadata": {},
   "outputs": [
    {
     "name": "stdout",
     "output_type": "stream",
     "text": [
      "R2-Score:  0.6728681108287512\n",
      "MSE :  0.009220344369196935\n"
     ]
    }
   ],
   "source": [
    "#Storing the Predicted Value Into A Pandas DataFrame\n",
    "y_pred = model.predict(x_test)\n",
    "\n",
    "#Calculating the R2-Score and Mean Squared Error Between Predicted Values and Testing Values\n",
    "print(\"R2-Score: \", metrics.r2_score(y_pred, y_test))\n",
    "print(\"MSE : \", metrics.mean_squared_error(y_pred, y_test))"
   ]
  },
  {
   "cell_type": "code",
   "execution_count": 103,
   "metadata": {},
   "outputs": [
    {
     "data": {
      "text/html": [
       "<div>\n",
       "<style scoped>\n",
       "    .dataframe tbody tr th:only-of-type {\n",
       "        vertical-align: middle;\n",
       "    }\n",
       "\n",
       "    .dataframe tbody tr th {\n",
       "        vertical-align: top;\n",
       "    }\n",
       "\n",
       "    .dataframe thead th {\n",
       "        text-align: right;\n",
       "    }\n",
       "</style>\n",
       "<table border=\"1\" class=\"dataframe\">\n",
       "  <thead>\n",
       "    <tr style=\"text-align: right;\">\n",
       "      <th></th>\n",
       "      <th>age</th>\n",
       "      <th>smoker</th>\n",
       "    </tr>\n",
       "  </thead>\n",
       "  <tbody>\n",
       "    <tr>\n",
       "      <th>578</th>\n",
       "      <td>0.739130</td>\n",
       "      <td>0.0</td>\n",
       "    </tr>\n",
       "    <tr>\n",
       "      <th>610</th>\n",
       "      <td>0.630435</td>\n",
       "      <td>0.0</td>\n",
       "    </tr>\n",
       "    <tr>\n",
       "      <th>569</th>\n",
       "      <td>0.652174</td>\n",
       "      <td>1.0</td>\n",
       "    </tr>\n",
       "    <tr>\n",
       "      <th>1034</th>\n",
       "      <td>0.934783</td>\n",
       "      <td>0.0</td>\n",
       "    </tr>\n",
       "    <tr>\n",
       "      <th>198</th>\n",
       "      <td>0.717391</td>\n",
       "      <td>0.0</td>\n",
       "    </tr>\n",
       "    <tr>\n",
       "      <th>...</th>\n",
       "      <td>...</td>\n",
       "      <td>...</td>\n",
       "    </tr>\n",
       "    <tr>\n",
       "      <th>1084</th>\n",
       "      <td>0.956522</td>\n",
       "      <td>0.0</td>\n",
       "    </tr>\n",
       "    <tr>\n",
       "      <th>726</th>\n",
       "      <td>0.500000</td>\n",
       "      <td>0.0</td>\n",
       "    </tr>\n",
       "    <tr>\n",
       "      <th>1132</th>\n",
       "      <td>0.847826</td>\n",
       "      <td>0.0</td>\n",
       "    </tr>\n",
       "    <tr>\n",
       "      <th>725</th>\n",
       "      <td>0.260870</td>\n",
       "      <td>1.0</td>\n",
       "    </tr>\n",
       "    <tr>\n",
       "      <th>963</th>\n",
       "      <td>0.608696</td>\n",
       "      <td>0.0</td>\n",
       "    </tr>\n",
       "  </tbody>\n",
       "</table>\n",
       "<p>268 rows × 2 columns</p>\n",
       "</div>"
      ],
      "text/plain": [
       "           age  smoker\n",
       "578   0.739130     0.0\n",
       "610   0.630435     0.0\n",
       "569   0.652174     1.0\n",
       "1034  0.934783     0.0\n",
       "198   0.717391     0.0\n",
       "...        ...     ...\n",
       "1084  0.956522     0.0\n",
       "726   0.500000     0.0\n",
       "1132  0.847826     0.0\n",
       "725   0.260870     1.0\n",
       "963   0.608696     0.0\n",
       "\n",
       "[268 rows x 2 columns]"
      ]
     },
     "execution_count": 103,
     "metadata": {},
     "output_type": "execute_result"
    }
   ],
   "source": [
    "x_test #Displaying the Testing Data of the 'Features' DataFrame"
   ]
  },
  {
   "cell_type": "code",
   "execution_count": 104,
   "metadata": {},
   "outputs": [
    {
     "data": {
      "text/html": [
       "<div>\n",
       "<style scoped>\n",
       "    .dataframe tbody tr th:only-of-type {\n",
       "        vertical-align: middle;\n",
       "    }\n",
       "\n",
       "    .dataframe tbody tr th {\n",
       "        vertical-align: top;\n",
       "    }\n",
       "\n",
       "    .dataframe thead th {\n",
       "        text-align: right;\n",
       "    }\n",
       "</style>\n",
       "<table border=\"1\" class=\"dataframe\">\n",
       "  <thead>\n",
       "    <tr style=\"text-align: right;\">\n",
       "      <th></th>\n",
       "      <th>charges</th>\n",
       "    </tr>\n",
       "  </thead>\n",
       "  <tbody>\n",
       "    <tr>\n",
       "      <th>578</th>\n",
       "      <td>0.137316</td>\n",
       "    </tr>\n",
       "    <tr>\n",
       "      <th>610</th>\n",
       "      <td>0.118531</td>\n",
       "    </tr>\n",
       "    <tr>\n",
       "      <th>569</th>\n",
       "      <td>0.711591</td>\n",
       "    </tr>\n",
       "    <tr>\n",
       "      <th>1034</th>\n",
       "      <td>0.188802</td>\n",
       "    </tr>\n",
       "    <tr>\n",
       "      <th>198</th>\n",
       "      <td>0.136035</td>\n",
       "    </tr>\n",
       "    <tr>\n",
       "      <th>...</th>\n",
       "      <td>...</td>\n",
       "    </tr>\n",
       "    <tr>\n",
       "      <th>1084</th>\n",
       "      <td>0.221839</td>\n",
       "    </tr>\n",
       "    <tr>\n",
       "      <th>726</th>\n",
       "      <td>0.088475</td>\n",
       "    </tr>\n",
       "    <tr>\n",
       "      <th>1132</th>\n",
       "      <td>0.312651</td>\n",
       "    </tr>\n",
       "    <tr>\n",
       "      <th>725</th>\n",
       "      <td>0.635458</td>\n",
       "    </tr>\n",
       "    <tr>\n",
       "      <th>963</th>\n",
       "      <td>0.133741</td>\n",
       "    </tr>\n",
       "  </tbody>\n",
       "</table>\n",
       "<p>268 rows × 1 columns</p>\n",
       "</div>"
      ],
      "text/plain": [
       "       charges\n",
       "578   0.137316\n",
       "610   0.118531\n",
       "569   0.711591\n",
       "1034  0.188802\n",
       "198   0.136035\n",
       "...        ...\n",
       "1084  0.221839\n",
       "726   0.088475\n",
       "1132  0.312651\n",
       "725   0.635458\n",
       "963   0.133741\n",
       "\n",
       "[268 rows x 1 columns]"
      ]
     },
     "execution_count": 104,
     "metadata": {},
     "output_type": "execute_result"
    }
   ],
   "source": [
    "y_test #Displaying the Testing Data of the 'Responses' DataFrame"
   ]
  },
  {
   "cell_type": "code",
   "execution_count": 105,
   "metadata": {},
   "outputs": [
    {
     "data": {
      "text/plain": [
       "array([[0.17206132],\n",
       "       [0.15028948],\n",
       "       [0.53064532],\n",
       "       [0.21125064],\n",
       "       [0.16770695],\n",
       "       [0.09368268],\n",
       "       [0.02401277],\n",
       "       [0.16770695],\n",
       "       [0.11110015],\n",
       "       [0.08061957],\n",
       "       [0.09368268],\n",
       "       [0.16335258],\n",
       "       [0.132872  ],\n",
       "       [0.08932831],\n",
       "       [0.43920357],\n",
       "       [0.16335258],\n",
       "       [0.20689628],\n",
       "       [0.05884772],\n",
       "       [0.11110015],\n",
       "       [0.40872298],\n",
       "       [0.54370843],\n",
       "       [0.1894788 ],\n",
       "       [0.17206132],\n",
       "       [0.52629095],\n",
       "       [0.04143025],\n",
       "       [0.08497394],\n",
       "       [0.06755646],\n",
       "       [0.11980889],\n",
       "       [0.08061957],\n",
       "       [0.14158074],\n",
       "       [0.11980889],\n",
       "       [0.57854338],\n",
       "       [0.21560501],\n",
       "       [0.18512443],\n",
       "       [0.42614046],\n",
       "       [0.0762652 ],\n",
       "       [0.14593511],\n",
       "       [0.44355794],\n",
       "       [0.49581037],\n",
       "       [0.03272151],\n",
       "       [0.10239142],\n",
       "       [0.07191083],\n",
       "       [0.491456  ],\n",
       "       [0.57418901],\n",
       "       [0.40001425],\n",
       "       [0.03707588],\n",
       "       [0.16335258],\n",
       "       [0.12851763],\n",
       "       [0.0762652 ],\n",
       "       [0.19383317],\n",
       "       [0.04578462],\n",
       "       [0.02836714],\n",
       "       [0.53064532],\n",
       "       [0.54370843],\n",
       "       [0.19818754],\n",
       "       [0.06755646],\n",
       "       [0.05884772],\n",
       "       [0.16335258],\n",
       "       [0.132872  ],\n",
       "       [0.20689628],\n",
       "       [0.02836714],\n",
       "       [0.59160649],\n",
       "       [0.20689628],\n",
       "       [0.16335258],\n",
       "       [0.15464385],\n",
       "       [0.16770695],\n",
       "       [0.40436861],\n",
       "       [0.45662104],\n",
       "       [0.03707588],\n",
       "       [0.11980889],\n",
       "       [0.21125064],\n",
       "       [0.19383317],\n",
       "       [0.40872298],\n",
       "       [0.21995938],\n",
       "       [0.20689628],\n",
       "       [0.20689628],\n",
       "       [0.14593511],\n",
       "       [0.13722637],\n",
       "       [0.48274726],\n",
       "       [0.58725212],\n",
       "       [0.1894788 ],\n",
       "       [0.50887347],\n",
       "       [0.04143025],\n",
       "       [0.14158074],\n",
       "       [0.50887347],\n",
       "       [0.46968415],\n",
       "       [0.05884772],\n",
       "       [0.05884772],\n",
       "       [0.20254191],\n",
       "       [0.45226668],\n",
       "       [0.08497394],\n",
       "       [0.18512443],\n",
       "       [0.05449335],\n",
       "       [0.14158074],\n",
       "       [0.09368268],\n",
       "       [0.08497394],\n",
       "       [0.5611259 ],\n",
       "       [0.51322784],\n",
       "       [0.08061957],\n",
       "       [0.1894788 ],\n",
       "       [0.04578462],\n",
       "       [0.10239142],\n",
       "       [0.06755646],\n",
       "       [0.47839289],\n",
       "       [0.50451911],\n",
       "       [0.06320209],\n",
       "       [0.1894788 ],\n",
       "       [0.06755646],\n",
       "       [0.19818754],\n",
       "       [0.58289775],\n",
       "       [0.18077006],\n",
       "       [0.0762652 ],\n",
       "       [0.15464385],\n",
       "       [0.40001425],\n",
       "       [0.56983464],\n",
       "       [0.12851763],\n",
       "       [0.03272151],\n",
       "       [0.16335258],\n",
       "       [0.20254191],\n",
       "       [0.14593511],\n",
       "       [0.50887347],\n",
       "       [0.17206132],\n",
       "       [0.22431375],\n",
       "       [0.0762652 ],\n",
       "       [0.13722637],\n",
       "       [0.07191083],\n",
       "       [0.52629095],\n",
       "       [0.51758221],\n",
       "       [0.58289775],\n",
       "       [0.03707588],\n",
       "       [0.13722637],\n",
       "       [0.02401277],\n",
       "       [0.11110015],\n",
       "       [0.16770695],\n",
       "       [0.50451911],\n",
       "       [0.46968415],\n",
       "       [0.50451911],\n",
       "       [0.16335258],\n",
       "       [0.55241717],\n",
       "       [0.04578462],\n",
       "       [0.03272151],\n",
       "       [0.18512443],\n",
       "       [0.15899821],\n",
       "       [0.18077006],\n",
       "       [0.09368268],\n",
       "       [0.22431375],\n",
       "       [0.20254191],\n",
       "       [0.04578462],\n",
       "       [0.02836714],\n",
       "       [0.18077006],\n",
       "       [0.11110015],\n",
       "       [0.43920357],\n",
       "       [0.16770695],\n",
       "       [0.02401277],\n",
       "       [0.02836714],\n",
       "       [0.11980889],\n",
       "       [0.04143025],\n",
       "       [0.02401277],\n",
       "       [0.16335258],\n",
       "       [0.15028948],\n",
       "       [0.06320209],\n",
       "       [0.21560501],\n",
       "       [0.20689628],\n",
       "       [0.16770695],\n",
       "       [0.08497394],\n",
       "       [0.05013899],\n",
       "       [0.40436861],\n",
       "       [0.08061957],\n",
       "       [0.08061957],\n",
       "       [0.02401277],\n",
       "       [0.06320209],\n",
       "       [0.06755646],\n",
       "       [0.132872  ],\n",
       "       [0.05013899],\n",
       "       [0.06320209],\n",
       "       [0.05449335],\n",
       "       [0.06755646],\n",
       "       [0.11545452],\n",
       "       [0.57854338],\n",
       "       [0.02401277],\n",
       "       [0.17206132],\n",
       "       [0.10674578],\n",
       "       [0.19383317],\n",
       "       [0.06320209],\n",
       "       [0.09368268],\n",
       "       [0.59160649],\n",
       "       [0.04143025],\n",
       "       [0.03707588],\n",
       "       [0.22431375],\n",
       "       [0.15899821],\n",
       "       [0.53935406],\n",
       "       [0.05884772],\n",
       "       [0.10239142],\n",
       "       [0.53064532],\n",
       "       [0.05449335],\n",
       "       [0.05013899],\n",
       "       [0.10674578],\n",
       "       [0.08932831],\n",
       "       [0.07191083],\n",
       "       [0.08061957],\n",
       "       [0.18077006],\n",
       "       [0.60031523],\n",
       "       [0.18512443],\n",
       "       [0.45662104],\n",
       "       [0.07191083],\n",
       "       [0.52629095],\n",
       "       [0.05449335],\n",
       "       [0.17206132],\n",
       "       [0.09803705],\n",
       "       [0.02401277],\n",
       "       [0.15464385],\n",
       "       [0.21560501],\n",
       "       [0.06755646],\n",
       "       [0.04578462],\n",
       "       [0.12416326],\n",
       "       [0.05013899],\n",
       "       [0.10239142],\n",
       "       [0.08932831],\n",
       "       [0.20254191],\n",
       "       [0.10674578],\n",
       "       [0.09368268],\n",
       "       [0.11545452],\n",
       "       [0.15464385],\n",
       "       [0.05449335],\n",
       "       [0.19818754],\n",
       "       [0.22431375],\n",
       "       [0.1894788 ],\n",
       "       [0.19818754],\n",
       "       [0.11110015],\n",
       "       [0.05449335],\n",
       "       [0.02401277],\n",
       "       [0.14593511],\n",
       "       [0.20254191],\n",
       "       [0.02401277],\n",
       "       [0.08497394],\n",
       "       [0.12416326],\n",
       "       [0.15464385],\n",
       "       [0.42614046],\n",
       "       [0.11110015],\n",
       "       [0.17641569],\n",
       "       [0.11110015],\n",
       "       [0.40872298],\n",
       "       [0.12416326],\n",
       "       [0.132872  ],\n",
       "       [0.132872  ],\n",
       "       [0.17641569],\n",
       "       [0.03707588],\n",
       "       [0.132872  ],\n",
       "       [0.04143025],\n",
       "       [0.12416326],\n",
       "       [0.45226668],\n",
       "       [0.59596086],\n",
       "       [0.05884772],\n",
       "       [0.05449335],\n",
       "       [0.02401277],\n",
       "       [0.02401277],\n",
       "       [0.14158074],\n",
       "       [0.02401277],\n",
       "       [0.05449335],\n",
       "       [0.06320209],\n",
       "       [0.14158074],\n",
       "       [0.53935406],\n",
       "       [0.59160649],\n",
       "       [0.21560501],\n",
       "       [0.12416326],\n",
       "       [0.19383317],\n",
       "       [0.45226668],\n",
       "       [0.14593511]])"
      ]
     },
     "execution_count": 105,
     "metadata": {},
     "output_type": "execute_result"
    }
   ],
   "source": [
    "y_pred #Displaying The Predicted Values of the 'Responses' DataFrame"
   ]
  },
  {
   "cell_type": "code",
   "execution_count": 106,
   "metadata": {},
   "outputs": [
    {
     "name": "stdout",
     "output_type": "stream",
     "text": [
      "[0.02401277]\n",
      "[[0.20030098 0.37600148]]\n"
     ]
    }
   ],
   "source": [
    "print(model.intercept_) #Checking The Intercept of the Linear Regression Model Equation\n",
    "print(model.coef_) #Checking The Coefficient of the Linear Regression Model Equation"
   ]
  },
  {
   "cell_type": "code",
   "execution_count": 107,
   "metadata": {},
   "outputs": [
    {
     "name": "stdout",
     "output_type": "stream",
     "text": [
      "[[0.02401277]]\n"
     ]
    }
   ],
   "source": [
    "scaled_data = scaler.fit_transform([[0, 60000]])\n",
    "print(model.predict(scaled_data))"
   ]
  },
  {
   "cell_type": "code",
   "execution_count": 108,
   "metadata": {},
   "outputs": [
    {
     "data": {
      "text/plain": [
       "1.0"
      ]
     },
     "execution_count": 108,
     "metadata": {},
     "output_type": "execute_result"
    }
   ],
   "source": [
    "yd_test = [10,20,30]\n",
    "yd_pred = [10,20,30]\n",
    "metrics.r2_score(yd_test, yd_pred)"
   ]
  }
 ],
 "metadata": {
  "colab": {
   "provenance": []
  },
  "kernelspec": {
   "display_name": "Python 3 (ipykernel)",
   "language": "python",
   "name": "python3"
  },
  "language_info": {
   "codemirror_mode": {
    "name": "ipython",
    "version": 3
   },
   "file_extension": ".py",
   "mimetype": "text/x-python",
   "name": "python",
   "nbconvert_exporter": "python",
   "pygments_lexer": "ipython3",
   "version": "3.9.7"
  }
 },
 "nbformat": 4,
 "nbformat_minor": 1
}
