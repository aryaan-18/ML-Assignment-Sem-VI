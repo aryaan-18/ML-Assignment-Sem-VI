{
 "cells": [
  {
   "cell_type": "code",
   "execution_count": 31,
   "metadata": {
    "executionInfo": {
     "elapsed": 924,
     "status": "ok",
     "timestamp": 1707207220547,
     "user": {
      "displayName": "Aryaan Madhani",
      "userId": "12289118581492339898"
     },
     "user_tz": -330
    },
    "id": "iUj6jh40wAIN"
   },
   "outputs": [],
   "source": [
    "#Importing the Pandas and Numpy Library\n",
    "import pandas as pd\n",
    "import numpy as np"
   ]
  },
  {
   "cell_type": "markdown",
   "metadata": {
    "id": "oewaHhFtwYch"
   },
   "source": []
  },
  {
   "cell_type": "code",
   "execution_count": 32,
   "metadata": {
    "colab": {
     "base_uri": "https://localhost:8080/"
    },
    "executionInfo": {
     "elapsed": 10,
     "status": "ok",
     "timestamp": 1707152718522,
     "user": {
      "displayName": "Aryaan Madhani",
      "userId": "12289118581492339898"
     },
     "user_tz": -330
    },
    "id": "KiDrYv97wZqN",
    "outputId": "93e420ba-ca2d-4a20-ca55-278dd3ac61c2"
   },
   "outputs": [
    {
     "name": "stdout",
     "output_type": "stream",
     "text": [
      "RangeIndex(start=0, stop=1059, step=1)\n"
     ]
    }
   ],
   "source": [
    "#Reading the Dataset and Displayiing the Index Values of the Dataset\n",
    "temp = pd.read_csv(\"MilkQuality.csv\")\n",
    "print(temp.index)"
   ]
  },
  {
   "cell_type": "code",
   "execution_count": 33,
   "metadata": {
    "colab": {
     "base_uri": "https://localhost:8080/"
    },
    "executionInfo": {
     "elapsed": 492,
     "status": "ok",
     "timestamp": 1707152721328,
     "user": {
      "displayName": "Aryaan Madhani",
      "userId": "12289118581492339898"
     },
     "user_tz": -330
    },
    "id": "BuqFgMD4xB5U",
    "outputId": "51ce5698-a3f2-4203-c84a-59977567c09b"
   },
   "outputs": [
    {
     "name": "stdout",
     "output_type": "stream",
     "text": [
      "Index(['pH', 'Temprature', 'Taste', 'Odor', 'Fat ', 'Turbidity', 'Colour',\n",
      "       'Grade'],\n",
      "      dtype='object')\n",
      "(1059, 8)\n",
      "<class 'pandas.core.frame.DataFrame'>\n",
      "RangeIndex: 1059 entries, 0 to 1058\n",
      "Data columns (total 8 columns):\n",
      " #   Column      Non-Null Count  Dtype  \n",
      "---  ------      --------------  -----  \n",
      " 0   pH          1059 non-null   float64\n",
      " 1   Temprature  1059 non-null   int64  \n",
      " 2   Taste       1059 non-null   int64  \n",
      " 3   Odor        1059 non-null   int64  \n",
      " 4   Fat         1059 non-null   int64  \n",
      " 5   Turbidity   1059 non-null   int64  \n",
      " 6   Colour      1059 non-null   int64  \n",
      " 7   Grade       1059 non-null   object \n",
      "dtypes: float64(1), int64(6), object(1)\n",
      "memory usage: 66.3+ KB\n"
     ]
    }
   ],
   "source": [
    "#Displaying the List of Columns Present in the Dataset, Number of Rows x Number of Columns Present in the Dataset\n",
    "#, and the Information of the Dataset\n",
    "print(temp.columns)\n",
    "print(temp.shape)\n",
    "temp.info()"
   ]
  },
  {
   "cell_type": "code",
   "execution_count": 34,
   "metadata": {
    "colab": {
     "base_uri": "https://localhost:8080/"
    },
    "executionInfo": {
     "elapsed": 450,
     "status": "ok",
     "timestamp": 1707152754807,
     "user": {
      "displayName": "Aryaan Madhani",
      "userId": "12289118581492339898"
     },
     "user_tz": -330
    },
    "id": "VRKYDaOvxUXt",
    "outputId": "5312331f-4035-4ac7-8ae6-62b76af341a4"
   },
   "outputs": [
    {
     "name": "stdout",
     "output_type": "stream",
     "text": [
      "    pH  Temprature  Taste  Odor  Fat   Turbidity  Colour   Grade\n",
      "0  6.6          35      1     0     1          0     254    high\n",
      "1  6.6          36      0     1     0          1     253    high\n",
      "2  8.5          70      1     1     1          1     246     low\n",
      "3  9.5          34      1     1     0          1     255     low\n",
      "4  6.6          37      0     0     0          0     255  medium\n"
     ]
    }
   ],
   "source": [
    "#Displaying the First Five Values of the Dataset\n",
    "print(temp.head())"
   ]
  },
  {
   "cell_type": "code",
   "execution_count": 35,
   "metadata": {
    "colab": {
     "base_uri": "https://localhost:8080/"
    },
    "executionInfo": {
     "elapsed": 460,
     "status": "ok",
     "timestamp": 1707152758106,
     "user": {
      "displayName": "Aryaan Madhani",
      "userId": "12289118581492339898"
     },
     "user_tz": -330
    },
    "id": "_zVJJbgWxYzJ",
    "outputId": "ee48c904-5362-46e9-d338-1017f5baf948"
   },
   "outputs": [
    {
     "name": "stdout",
     "output_type": "stream",
     "text": [
      "       pH  Temprature  Taste  Odor  Fat   Turbidity  Colour   Grade\n",
      "1054  6.7          45      1     1     0          0     247  medium\n",
      "1055  6.7          38      1     0     1          0     255    high\n",
      "1056  3.0          40      1     1     1          1     255     low\n",
      "1057  6.8          43      1     0     1          0     250    high\n",
      "1058  8.6          55      0     1     1          1     255     low\n"
     ]
    }
   ],
   "source": [
    "#Displaying the Last Five Values of the Dataset\n",
    "print(temp.tail())"
   ]
  },
  {
   "cell_type": "code",
   "execution_count": 36,
   "metadata": {
    "colab": {
     "base_uri": "https://localhost:8080/"
    },
    "executionInfo": {
     "elapsed": 10,
     "status": "ok",
     "timestamp": 1707152760188,
     "user": {
      "displayName": "Aryaan Madhani",
      "userId": "12289118581492339898"
     },
     "user_tz": -330
    },
    "id": "Sovg3EK6xcOR",
    "outputId": "c8362b71-4ba7-4aa0-fc68-257f83f372c3"
   },
   "outputs": [
    {
     "data": {
      "text/plain": [
       "pH            16\n",
       "Temprature    17\n",
       "Taste          2\n",
       "Odor           2\n",
       "Fat            2\n",
       "Turbidity      2\n",
       "Colour         9\n",
       "Grade          3\n",
       "dtype: int64"
      ]
     },
     "execution_count": 36,
     "metadata": {},
     "output_type": "execute_result"
    }
   ],
   "source": [
    "#Calculating the Count of Unique Values For Each Column\n",
    "temp.nunique()"
   ]
  },
  {
   "cell_type": "code",
   "execution_count": 37,
   "metadata": {
    "colab": {
     "base_uri": "https://localhost:8080/"
    },
    "executionInfo": {
     "elapsed": 497,
     "status": "ok",
     "timestamp": 1707152809358,
     "user": {
      "displayName": "Aryaan Madhani",
      "userId": "12289118581492339898"
     },
     "user_tz": -330
    },
    "id": "zk5trEZoxhRr",
    "outputId": "7bbecf88-a327-40ca-ac4a-f9c8a13acd50"
   },
   "outputs": [
    {
     "data": {
      "text/plain": [
       "pH            0\n",
       "Temprature    0\n",
       "Taste         0\n",
       "Odor          0\n",
       "Fat           0\n",
       "Turbidity     0\n",
       "Colour        0\n",
       "Grade         0\n",
       "dtype: int64"
      ]
     },
     "execution_count": 37,
     "metadata": {},
     "output_type": "execute_result"
    }
   ],
   "source": [
    "#Calculating the Count of NA Values Present in the Dataset\n",
    "temp.isna().sum()"
   ]
  },
  {
   "cell_type": "code",
   "execution_count": 38,
   "metadata": {
    "colab": {
     "base_uri": "https://localhost:8080/"
    },
    "executionInfo": {
     "elapsed": 10,
     "status": "ok",
     "timestamp": 1707152810765,
     "user": {
      "displayName": "Aryaan Madhani",
      "userId": "12289118581492339898"
     },
     "user_tz": -330
    },
    "id": "JW4SxhEcxkmJ",
    "outputId": "1f6cd632-b685-4dee-dcfa-2c12d893849d"
   },
   "outputs": [
    {
     "data": {
      "text/plain": [
       "pH            0\n",
       "Temprature    0\n",
       "Taste         0\n",
       "Odor          0\n",
       "Fat           0\n",
       "Turbidity     0\n",
       "Colour        0\n",
       "Grade         0\n",
       "dtype: int64"
      ]
     },
     "execution_count": 38,
     "metadata": {},
     "output_type": "execute_result"
    }
   ],
   "source": [
    "#Calculating the Count of NULL Values Present in the Dataset\n",
    "temp.isnull().sum()"
   ]
  },
  {
   "cell_type": "code",
   "execution_count": 39,
   "metadata": {
    "colab": {
     "base_uri": "https://localhost:8080/"
    },
    "executionInfo": {
     "elapsed": 437,
     "status": "ok",
     "timestamp": 1707152813522,
     "user": {
      "displayName": "Aryaan Madhani",
      "userId": "12289118581492339898"
     },
     "user_tz": -330
    },
    "id": "Qj88aKi1xoAH",
    "outputId": "cd1644f3-6b5b-4647-b8de-2e33456c1bd5"
   },
   "outputs": [
    {
     "name": "stdout",
     "output_type": "stream",
     "text": [
      "                pH   Temprature        Taste         Odor         Fat   \\\n",
      "count  1059.000000  1059.000000  1059.000000  1059.000000  1059.000000   \n",
      "mean      6.630123    44.226629     0.546742     0.432483     0.671388   \n",
      "std       1.399679    10.098364     0.498046     0.495655     0.469930   \n",
      "min       3.000000    34.000000     0.000000     0.000000     0.000000   \n",
      "25%       6.500000    38.000000     0.000000     0.000000     0.000000   \n",
      "50%       6.700000    41.000000     1.000000     0.000000     1.000000   \n",
      "75%       6.800000    45.000000     1.000000     1.000000     1.000000   \n",
      "max       9.500000    90.000000     1.000000     1.000000     1.000000   \n",
      "\n",
      "         Turbidity       Colour  \n",
      "count  1059.000000  1059.000000  \n",
      "mean      0.491029   251.840415  \n",
      "std       0.500156     4.307424  \n",
      "min       0.000000   240.000000  \n",
      "25%       0.000000   250.000000  \n",
      "50%       0.000000   255.000000  \n",
      "75%       1.000000   255.000000  \n",
      "max       1.000000   255.000000  \n"
     ]
    }
   ],
   "source": [
    "#Displaying the Description of the Data in the DataFrame\n",
    "print(temp.describe())"
   ]
  },
  {
   "cell_type": "code",
   "execution_count": 40,
   "metadata": {
    "colab": {
     "base_uri": "https://localhost:8080/"
    },
    "executionInfo": {
     "elapsed": 12,
     "status": "ok",
     "timestamp": 1707152816925,
     "user": {
      "displayName": "Aryaan Madhani",
      "userId": "12289118581492339898"
     },
     "user_tz": -330
    },
    "id": "VF8w07-Lxr8n",
    "outputId": "ce397d10-c348-40b9-ab54-704048a07f9d"
   },
   "outputs": [
    {
     "name": "stdout",
     "output_type": "stream",
     "text": [
      "pH              6.630123\n",
      "Temprature     44.226629\n",
      "Taste           0.546742\n",
      "Odor            0.432483\n",
      "Fat             0.671388\n",
      "Turbidity       0.491029\n",
      "Colour        251.840415\n",
      "dtype: float64\n",
      "pH              6.7\n",
      "Temprature     41.0\n",
      "Taste           1.0\n",
      "Odor            0.0\n",
      "Fat             1.0\n",
      "Turbidity       0.0\n",
      "Colour        255.0\n",
      "dtype: float64\n",
      "    pH  Temprature  Taste  Odor  Fat   Turbidity  Colour Grade\n",
      "0  6.8          45      1     0     1          0     255   low\n",
      "44.226628895184135\n",
      "6.7\n",
      "0    low\n",
      "dtype: object\n"
     ]
    },
    {
     "name": "stderr",
     "output_type": "stream",
     "text": [
      "C:\\Users\\Admin\\AppData\\Local\\Temp/ipykernel_8996/3058889971.py:2: FutureWarning: Dropping of nuisance columns in DataFrame reductions (with 'numeric_only=None') is deprecated; in a future version this will raise TypeError.  Select only valid columns before calling the reduction.\n",
      "  print(temp.mean())\n",
      "C:\\Users\\Admin\\AppData\\Local\\Temp/ipykernel_8996/3058889971.py:3: FutureWarning: Dropping of nuisance columns in DataFrame reductions (with 'numeric_only=None') is deprecated; in a future version this will raise TypeError.  Select only valid columns before calling the reduction.\n",
      "  print(temp.median())\n"
     ]
    }
   ],
   "source": [
    "#Calculating the Measures of Central Tendency\n",
    "print(temp.mean())\n",
    "print(temp.median())\n",
    "print(temp.mode())\n",
    "print(temp['Temprature'].mean())\n",
    "print(temp['pH'].median())\n",
    "print(temp['Grade'].mode())"
   ]
  },
  {
   "cell_type": "code",
   "execution_count": 41,
   "metadata": {
    "colab": {
     "base_uri": "https://localhost:8080/"
    },
    "executionInfo": {
     "elapsed": 428,
     "status": "ok",
     "timestamp": 1707152823155,
     "user": {
      "displayName": "Aryaan Madhani",
      "userId": "12289118581492339898"
     },
     "user_tz": -330
    },
    "id": "vKm_fVS58Zy5",
    "outputId": "8c8b46ef-5116-41ac-eeef-1eb77f24034a"
   },
   "outputs": [
    {
     "name": "stdout",
     "output_type": "stream",
     "text": [
      "101.97694618634812\n",
      "10.09836354001717\n"
     ]
    }
   ],
   "source": [
    "#Calculating the Measures of Variability for 'Temprature' Column\n",
    "print(temp['Temprature'].var())\n",
    "print(temp['Temprature'].std())"
   ]
  },
  {
   "cell_type": "code",
   "execution_count": 42,
   "metadata": {
    "colab": {
     "base_uri": "https://localhost:8080/"
    },
    "executionInfo": {
     "elapsed": 484,
     "status": "ok",
     "timestamp": 1707152885196,
     "user": {
      "displayName": "Aryaan Madhani",
      "userId": "12289118581492339898"
     },
     "user_tz": -330
    },
    "id": "YNmPxkxdPPOX",
    "outputId": "b9af795a-12ff-4281-a740-8f9f6ff0b677"
   },
   "outputs": [
    {
     "name": "stdout",
     "output_type": "stream",
     "text": [
      "6.855529429388463\n"
     ]
    }
   ],
   "source": [
    "#Calculating the Mean(Average) Absolute Deviation for 'Temprature' column\n",
    "print(temp['Temprature'].mad())"
   ]
  },
  {
   "cell_type": "code",
   "execution_count": 43,
   "metadata": {
    "colab": {
     "base_uri": "https://localhost:8080/"
    },
    "executionInfo": {
     "elapsed": 11,
     "status": "ok",
     "timestamp": 1707153027498,
     "user": {
      "displayName": "Aryaan Madhani",
      "userId": "12289118581492339898"
     },
     "user_tz": -330
    },
    "id": "Dem7A5wrPdXA",
    "outputId": "25275378-7d7b-4fc8-a9b0-2febe1ff813a"
   },
   "outputs": [
    {
     "name": "stdout",
     "output_type": "stream",
     "text": [
      "56\n"
     ]
    }
   ],
   "source": [
    "#alculating the Range of the 'Temprature' column of the dataset\n",
    "range_temp = max(temp['Temprature']) - min(temp['Temprature'])\n",
    "print(range_temp)"
   ]
  },
  {
   "cell_type": "code",
   "execution_count": 44,
   "metadata": {
    "colab": {
     "base_uri": "https://localhost:8080/"
    },
    "executionInfo": {
     "elapsed": 919,
     "status": "ok",
     "timestamp": 1707153144478,
     "user": {
      "displayName": "Aryaan Madhani",
      "userId": "12289118581492339898"
     },
     "user_tz": -330
    },
    "id": "igswxr4yP_nV",
    "outputId": "fd35ed94-d54d-4eb4-b953-5271e83aa11e"
   },
   "outputs": [
    {
     "name": "stdout",
     "output_type": "stream",
     "text": [
      "38.0 45.0\n",
      "7.0\n"
     ]
    }
   ],
   "source": [
    "#Calculating the Inter-Quartile Range of the 'Temprature' column of the dataset\n",
    "Q1 = np.percentile(temp['Temprature'],25)\n",
    "Q3 = np.percentile(temp['Temprature'],75)\n",
    "print(Q1, Q3)\n",
    "IQR = Q3 - Q1\n",
    "print(IQR)"
   ]
  },
  {
   "cell_type": "code",
   "execution_count": 45,
   "metadata": {
    "colab": {
     "base_uri": "https://localhost:8080/"
    },
    "executionInfo": {
     "elapsed": 604,
     "status": "ok",
     "timestamp": 1707153310751,
     "user": {
      "displayName": "Aryaan Madhani",
      "userId": "12289118581492339898"
     },
     "user_tz": -330
    },
    "id": "phZkRiXoQc8Y",
    "outputId": "a0626529-aa57-4596-f392-48fa545b6a8a"
   },
   "outputs": [
    {
     "name": "stdout",
     "output_type": "stream",
     "text": [
      "[34 35 36 37 38 40 41 42 43 45 50 55 60 65 66 70 90] [ 40  23  66  83 179 132  30   1  77 219  58  48  18  22  24  22  17]\n"
     ]
    }
   ],
   "source": [
    "#Calculating the Measures of Frequency Distribution\n",
    "unique, counts = np.unique(temp['Temprature'], return_counts=True)\n",
    "print(unique, counts)"
   ]
  },
  {
   "cell_type": "code",
   "execution_count": 46,
   "metadata": {
    "colab": {
     "base_uri": "https://localhost:8080/"
    },
    "executionInfo": {
     "elapsed": 1411,
     "status": "ok",
     "timestamp": 1707154361024,
     "user": {
      "displayName": "Aryaan Madhani",
      "userId": "12289118581492339898"
     },
     "user_tz": -330
    },
    "id": "BAu5T7cbQ6MU",
    "outputId": "3c63a4c8-13d7-44c1-eaef-f98308046639"
   },
   "outputs": [
    {
     "name": "stdout",
     "output_type": "stream",
     "text": [
      "[[ 1.         -0.00851136]\n",
      " [-0.00851136  1.        ]]\n",
      "\n",
      "\n",
      "\n",
      "            Temprature    Colour\n",
      "Temprature    1.000000 -0.008511\n",
      "Colour       -0.008511  1.000000\n"
     ]
    }
   ],
   "source": [
    "#Calculating the Correlation Coefficient and Displaying the Correlation Matrix\n",
    "matrix = np.corrcoef(temp['Temprature'], temp['Colour'])\n",
    "print(matrix)\n",
    "print('\\n\\n')\n",
    "print(temp[['Temprature','Colour']].corr())"
   ]
  },
  {
   "cell_type": "code",
   "execution_count": 47,
   "metadata": {
    "colab": {
     "base_uri": "https://localhost:8080/"
    },
    "executionInfo": {
     "elapsed": 643,
     "status": "ok",
     "timestamp": 1707154543080,
     "user": {
      "displayName": "Aryaan Madhani",
      "userId": "12289118581492339898"
     },
     "user_tz": -330
    },
    "id": "VTwj_UVTVFx_",
    "outputId": "c5728644-f710-4ce9-d181-5334f77674f5"
   },
   "outputs": [
    {
     "name": "stdout",
     "output_type": "stream",
     "text": [
      "                  pH  Temprature     Taste      Odor      Fat   Turbidity  \\\n",
      "pH          1.000000    0.244684 -0.064053 -0.081331 -0.093429   0.048384   \n",
      "Temprature  0.244684    1.000000 -0.109792 -0.048870  0.024073   0.185106   \n",
      "Taste      -0.064053   -0.109792  1.000000  0.017582  0.324149   0.055755   \n",
      "Odor       -0.081331   -0.048870  0.017582  1.000000  0.314505   0.457935   \n",
      "Fat        -0.093429    0.024073  0.324149  0.314505  1.000000   0.329264   \n",
      "Turbidity   0.048384    0.185106  0.055755  0.457935  0.329264   1.000000   \n",
      "Colour     -0.164565   -0.008511 -0.082654 -0.039361  0.114151   0.136436   \n",
      "\n",
      "              Colour  \n",
      "pH         -0.164565  \n",
      "Temprature -0.008511  \n",
      "Taste      -0.082654  \n",
      "Odor       -0.039361  \n",
      "Fat         0.114151  \n",
      "Turbidity   0.136436  \n",
      "Colour      1.000000  \n"
     ]
    }
   ],
   "source": [
    "#Calculating the Correlation Matrix for the Entire Dataset\n",
    "matrix_full = temp.corr()\n",
    "print(matrix_full)"
   ]
  },
  {
   "cell_type": "code",
   "execution_count": 48,
   "metadata": {
    "executionInfo": {
     "elapsed": 2039,
     "status": "ok",
     "timestamp": 1707154572086,
     "user": {
      "displayName": "Aryaan Madhani",
      "userId": "12289118581492339898"
     },
     "user_tz": -330
    },
    "id": "-1KvBOg0VMzN"
   },
   "outputs": [],
   "source": [
    "#Importing the Seaborn Library\n",
    "import seaborn as sns"
   ]
  },
  {
   "cell_type": "code",
   "execution_count": 49,
   "metadata": {
    "colab": {
     "base_uri": "https://localhost:8080/",
     "height": 1000
    },
    "executionInfo": {
     "elapsed": 23186,
     "status": "ok",
     "timestamp": 1707154962504,
     "user": {
      "displayName": "Aryaan Madhani",
      "userId": "12289118581492339898"
     },
     "user_tz": -330
    },
    "id": "o7rJio9nV4b3",
    "outputId": "a1ba73f2-cf6e-42b0-b1cb-b3f81690fa41"
   },
   "outputs": [
    {
     "name": "stdout",
     "output_type": "stream",
     "text": [
      "                  pH  Temprature     Taste      Odor      Fat   Turbidity  \\\n",
      "pH          1.000000    0.535262 -0.017818  0.274780  0.082225   0.305673   \n",
      "Temprature  0.535262    1.000000  0.161076  0.645642 -0.056270   0.156614   \n",
      "Taste      -0.017818    0.161076  1.000000  0.260311  0.315897  -0.302573   \n",
      "Odor        0.274780    0.645642  0.260311  1.000000 -0.066728  -0.167366   \n",
      "Fat         0.082225   -0.056270  0.315897 -0.066728  1.000000  -0.299980   \n",
      "Turbidity   0.305673    0.156614 -0.302573 -0.167366 -0.299980   1.000000   \n",
      "Colour     -0.370957   -0.140548 -0.211946 -0.464833  0.016192  -0.124070   \n",
      "\n",
      "              Colour  \n",
      "pH         -0.370957  \n",
      "Temprature -0.140548  \n",
      "Taste      -0.211946  \n",
      "Odor       -0.464833  \n",
      "Fat         0.016192  \n",
      "Turbidity  -0.124070  \n",
      "Colour      1.000000  \n"
     ]
    },
    {
     "data": {
      "text/plain": [
       "<seaborn.axisgrid.PairGrid at 0x1e6f8dfbfd0>"
      ]
     },
     "execution_count": 49,
     "metadata": {},
     "output_type": "execute_result"
    },
    {
     "data": {
      "image/png": "[encoded data removed]",
      "text/plain": [
       "<Figure size 1260x1260 with 56 Axes>"
      ]
     },
     "metadata": {
      "needs_background": "light"
     },
     "output_type": "display_data"
    }
   ],
   "source": [
    "#Finding the Pairwise Correlation Of All The Columns in the DataFrame and Plotting Graphs For Each Pairwise Correlation \n",
    "#of the Columns\n",
    "print(temp[temp['Grade']=='medium'].corr())\n",
    "sns.pairplot(temp[temp['Grade']=='medium'])"
   ]
  },
  {
   "cell_type": "code",
   "execution_count": 50,
   "metadata": {
    "executionInfo": {
     "elapsed": 442,
     "status": "ok",
     "timestamp": 1707155246084,
     "user": {
      "displayName": "Aryaan Madhani",
      "userId": "12289118581492339898"
     },
     "user_tz": -330
    },
    "id": "8h-JCT0rXdrd"
   },
   "outputs": [],
   "source": [
    "#Importing the MatPlot Library\n",
    "import matplotlib.pyplot as plt"
   ]
  },
  {
   "cell_type": "code",
   "execution_count": 51,
   "metadata": {
    "colab": {
     "base_uri": "https://localhost:8080/",
     "height": 411
    },
    "executionInfo": {
     "elapsed": 699,
     "status": "ok",
     "timestamp": 1707155294311,
     "user": {
      "displayName": "Aryaan Madhani",
      "userId": "12289118581492339898"
     },
     "user_tz": -330
    },
    "id": "bYmaZqS-Yc-W",
    "outputId": "adf404b1-3de7-46af-8542-efb4bda5431d"
   },
   "outputs": [
    {
     "name": "stderr",
     "output_type": "stream",
     "text": [
      "C:\\ProgramData\\Anaconda3\\lib\\site-packages\\seaborn\\_decorators.py:36: FutureWarning: Pass the following variable as a keyword arg: x. From version 0.12, the only valid positional argument will be `data`, and passing other arguments without an explicit keyword will result in an error or misinterpretation.\n",
      "  warnings.warn(\n"
     ]
    },
    {
     "data": {
      "image/png": "[encoded data removed]",
      "text/plain": [
       "<Figure size 432x288 with 1 Axes>"
      ]
     },
     "metadata": {
      "needs_background": "light"
     },
     "output_type": "display_data"
    }
   ],
   "source": [
    "#Plotting a Box-Plot Graph for Temprature Column To Find The Outliers\n",
    "box_plot = sns.boxplot(temp['Temprature'])\n",
    "plt.show()"
   ]
  },
  {
   "cell_type": "code",
   "execution_count": 52,
   "metadata": {
    "colab": {
     "base_uri": "https://localhost:8080/"
    },
    "executionInfo": {
     "elapsed": 432,
     "status": "ok",
     "timestamp": 1707156285814,
     "user": {
      "displayName": "Aryaan Madhani",
      "userId": "12289118581492339898"
     },
     "user_tz": -330
    },
    "id": "QmG5H_ZqYp15",
    "outputId": "5ece12ab-91a3-4c3e-d05a-37b5a47a5db5"
   },
   "outputs": [
    {
     "name": "stdout",
     "output_type": "stream",
     "text": [
      "Outliers from 0       35\n",
      "1       36\n",
      "3       34\n",
      "4       37\n",
      "5       37\n",
      "        ..\n",
      "1054    45\n",
      "1055    38\n",
      "1056    40\n",
      "1057    43\n",
      "1058    55\n",
      "Name: Temprature, Length: 956, dtype: int64 feature removed\n"
     ]
    }
   ],
   "source": [
    "#Removing Outliers From The Box-Plot Graph\n",
    "Q1_o = np.percentile(temp['Temprature'], 25.)\n",
    "Q3_o = np.percentile(temp['Temprature'], 75.)\n",
    "\n",
    "IQR_o = Q3_o - Q1_o #Calculating The Inter-Quartile Range\n",
    "\n",
    "lower_level = Q1 - (1.5*IQR) #Calculating the Value Of The Lower Level Outlier\n",
    "upper_level = Q3 + (1.5*IQR) #Calculating the Value For The Upper Level Outlier\n",
    "\n",
    "upper_outliers = temp[temp['Temprature'] > upper_level].index.tolist() #Collecting the Indices of the Outliers Below 25 Percentile\n",
    "lower_outliers = temp[temp['Temprature'] < lower_level].index.tolist() #Collecting the Indices of the Outliers Above 75 Percentile\n",
    "bad_indices = list(set(upper_outliers + lower_outliers)) #Storing All 'Bad' Indices Together\n",
    "drop = True\n",
    "\n",
    "if drop:\n",
    "    #Removing the Outliers From The Box-Plot Graph and Displaying the List of Outliers That Have Been Removed\n",
    "      temp.drop(bad_indices, inplace = True, errors= 'ignore')\n",
    "      print('Outliers from {} feature removed'.format(temp['Temprature']))\n"
   ]
  },
  {
   "cell_type": "code",
   "execution_count": 53,
   "metadata": {
    "colab": {
     "base_uri": "https://localhost:8080/",
     "height": 411
    },
    "executionInfo": {
     "elapsed": 493,
     "status": "ok",
     "timestamp": 1707156334885,
     "user": {
      "displayName": "Aryaan Madhani",
      "userId": "12289118581492339898"
     },
     "user_tz": -330
    },
    "id": "nevcnku3cdbO",
    "outputId": "50d9ffd6-fe28-4b80-c2f2-22eefb9b3a62"
   },
   "outputs": [
    {
     "name": "stderr",
     "output_type": "stream",
     "text": [
      "C:\\ProgramData\\Anaconda3\\lib\\site-packages\\seaborn\\_decorators.py:36: FutureWarning: Pass the following variable as a keyword arg: x. From version 0.12, the only valid positional argument will be `data`, and passing other arguments without an explicit keyword will result in an error or misinterpretation.\n",
      "  warnings.warn(\n"
     ]
    },
    {
     "data": {
      "image/png": "[encoded data removed]",
      "text/plain": [
       "<Figure size 432x288 with 1 Axes>"
      ]
     },
     "metadata": {
      "needs_background": "light"
     },
     "output_type": "display_data"
    }
   ],
   "source": [
    "#Displaying The Updated Box-Plot Graph With Zero Outliers\n",
    "box_plot = sns.boxplot(temp['Temprature'])\n",
    "plt.show()"
   ]
  },
  {
   "cell_type": "code",
   "execution_count": null,
   "metadata": {
    "id": "pEb2xTLOcnnj"
   },
   "outputs": [],
   "source": []
  }
 ],
 "metadata": {
  "colab": {
   "authorship_tag": "ABX9TyNlaBQaoiy5Bl7Itcg3WXmK",
   "mount_file_id": "1a7q0YRJvwcRfc0CfpgmELbB7JSTX8g1J",
   "provenance": []
  },
  "kernelspec": {
   "display_name": "Python 3 (ipykernel)",
   "language": "python",
   "name": "python3"
  },
  "language_info": {
   "codemirror_mode": {
    "name": "ipython",
    "version": 3
   },
   "file_extension": ".py",
   "mimetype": "text/x-python",
   "name": "python",
   "nbconvert_exporter": "python",
   "pygments_lexer": "ipython3",
   "version": "3.9.7"
  }
 },
 "nbformat": 4,
 "nbformat_minor": 1
}
